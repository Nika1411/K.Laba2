{
 "cells": [
  {
   "cell_type": "markdown",
   "metadata": {},
   "source": [
    "Индивидуальное задание\n"
   ]
  },
  {
   "cell_type": "markdown",
   "metadata": {},
   "source": [
    "Вариант 3\n",
    "     Дана целочисленная прямоугольная матрица. Определить:\n",
    "1.)количество столбцов, содержащих хотя бы один нулевой элемент;\n",
    "2.)номер строки, в которой находится самая длинная серия одинаковых элементов."
   ]
  },
  {
   "cell_type": "code",
   "execution_count": 1,
   "metadata": {},
   "outputs": [],
   "source": [
    "import numpy as np"
   ]
  },
  {
   "cell_type": "code",
   "execution_count": 2,
   "metadata": {},
   "outputs": [
    {
     "name": "stdout",
     "output_type": "stream",
     "text": [
      "[[2 7 1 7 7 4 6]\n",
      " [5 2 4 8 3 7 6]\n",
      " [3 4 5 1 6 8 8]\n",
      " [2 3 0 6 8 5 5]\n",
      " [1 3 1 8 4 5 0]\n",
      " [3 1 4 6 1 0 1]\n",
      " [6 2 7 8 6 5 8]\n",
      " [3 0 0 6 5 1 4]]\n"
     ]
    }
   ],
   "source": [
    "m = np.random.randint(9, size=(8, 7))\n",
    "print (m)"
   ]
  },
  {
   "cell_type": "code",
   "execution_count": 3,
   "metadata": {},
   "outputs": [
    {
     "data": {
      "text/plain": [
       "4"
      ]
     },
     "execution_count": 3,
     "metadata": {},
     "output_type": "execute_result"
    }
   ],
   "source": [
    "a = m[:, :] != 0\n",
    "b = m.min(axis = 0)\n",
    "np.sum(0 == b)\n",
    "\n"
   ]
  },
  {
   "cell_type": "code",
   "execution_count": 4,
   "metadata": {},
   "outputs": [],
   "source": [
    "from scipy import stats"
   ]
  },
  {
   "cell_type": "code",
   "execution_count": 30,
   "metadata": {},
   "outputs": [
    {
     "name": "stdout",
     "output_type": "stream",
     "text": [
      "[7, 2, 8, 5, 1, 1, 6, 0] - моды строк матрицы\n"
     ]
    }
   ],
   "source": [
    "mode_list = []\n",
    "for i in range(m.shape[0]):\n",
    "    Mode = int(stats.mode(m[i, :])[0])\n",
    "    mode_list.append(Mode)\n",
    "print(f'{mode_list} - моды строк матрицы')"
   ]
  },
  {
   "cell_type": "code",
   "execution_count": 27,
   "metadata": {},
   "outputs": [
    {
     "name": "stdout",
     "output_type": "stream",
     "text": [
      "0 - номер строки, в которой находится самая длинная серия одинаковых элементов\n",
      "5 - номер строки, в которой находится самая длинная серия одинаковых элементов\n"
     ]
    }
   ],
   "source": [
    "sum_mode = []\n",
    "for j in range(m.shape[0]):\n",
    "    bul_mode = m[j, :] == mode_list[j]\n",
    "    sum_mode.append(np.sum(bul_mode))\n",
    "ans = np.max(sum_mode)\n",
    "for k, l in enumerate(sum_mode):\n",
    "    if l == ans:\n",
    "        print(f'{k} - номер строки, в которой находится самая длинная серия одинаковых элементов')"
   ]
  }
 ],
 "metadata": {
  "kernelspec": {
   "display_name": "Python 3",
   "language": "python",
   "name": "python3"
  },
  "language_info": {
   "codemirror_mode": {
    "name": "ipython",
    "version": 3
   },
   "file_extension": ".py",
   "mimetype": "text/x-python",
   "name": "python",
   "nbconvert_exporter": "python",
   "pygments_lexer": "ipython3",
   "version": "3.8.5"
  }
 },
 "nbformat": 4,
 "nbformat_minor": 4
}
