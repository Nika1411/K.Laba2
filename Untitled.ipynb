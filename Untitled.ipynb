{
 "cells": [
  {
   "cell_type": "markdown",
   "metadata": {},
   "source": [
    "Индивидуальное задание\n"
   ]
  },
  {
   "cell_type": "markdown",
   "metadata": {},
   "source": [
    "Вариант 3\n",
    "     Дана целочисленная прямоугольная матрица. Определить:\n",
    "1.)количество столбцов, содержащих хотя бы один нулевой элемент;\n",
    "2.)номер строки, в которой находится самая длинная серия одинаковых элементов."
   ]
  },
  {
   "cell_type": "code",
   "execution_count": 7,
   "metadata": {},
   "outputs": [],
   "source": [
    "import numpy as np"
   ]
  },
  {
   "cell_type": "code",
   "execution_count": 8,
   "metadata": {},
   "outputs": [
    {
     "name": "stdout",
     "output_type": "stream",
     "text": [
      "[[4 4 0 5 0 5 3]\n",
      " [1 4 4 5 7 8 6]\n",
      " [7 6 8 2 2 3 0]\n",
      " [6 4 6 7 1 1 2]\n",
      " [2 7 3 4 6 3 2]\n",
      " [2 4 1 3 1 0 8]\n",
      " [4 2 8 7 1 5 3]\n",
      " [6 3 6 7 8 5 4]]\n"
     ]
    }
   ],
   "source": [
    "m = np.random.randint(9, size=(8, 7))\n",
    "print (m)"
   ]
  },
  {
   "cell_type": "code",
   "execution_count": 9,
   "metadata": {},
   "outputs": [
    {
     "data": {
      "text/plain": [
       "4"
      ]
     },
     "execution_count": 9,
     "metadata": {},
     "output_type": "execute_result"
    }
   ],
   "source": [
    "a = m[:, :] != 0\n",
    "b = m.min(axis = 0)\n",
    "np.sum(0 == b)\n",
    "\n"
   ]
  },
  {
   "cell_type": "code",
   "execution_count": null,
   "metadata": {},
   "outputs": [],
   "source": []
  },
  {
   "cell_type": "code",
   "execution_count": null,
   "metadata": {},
   "outputs": [],
   "source": []
  }
 ],
 "metadata": {
  "kernelspec": {
   "display_name": "Python 3",
   "language": "python",
   "name": "python3"
  },
  "language_info": {
   "codemirror_mode": {
    "name": "ipython",
    "version": 3
   },
   "file_extension": ".py",
   "mimetype": "text/x-python",
   "name": "python",
   "nbconvert_exporter": "python",
   "pygments_lexer": "ipython3",
   "version": "3.8.5"
  }
 },
 "nbformat": 4,
 "nbformat_minor": 4
}
